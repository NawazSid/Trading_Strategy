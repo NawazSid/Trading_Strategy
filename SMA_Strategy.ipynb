{
 "cells": [
  {
   "cell_type": "markdown",
   "id": "61b33a57",
   "metadata": {},
   "source": [
    "# Trading Strategy based on Simple Moving Averages"
   ]
  },
  {
   "cell_type": "markdown",
   "id": "a2dd7d55-2003-4475-8feb-d1859407e611",
   "metadata": {},
   "source": [
    "## Importing necessary libraries"
   ]
  },
  {
   "cell_type": "code",
   "execution_count": 1,
   "id": "73c75a7f-c24a-40c4-a130-f3e1115b05f5",
   "metadata": {
    "tags": []
   },
   "outputs": [],
   "source": [
    "import yfinance as yf\n",
    "import pandas as pd\n",
    "import matplotlib.pyplot as plt\n",
    "from plotly import graph_objects as go\n",
    "import numpy as np"
   ]
  },
  {
   "cell_type": "markdown",
   "id": "bff7882b-21f6-4422-927c-65c694c936b5",
   "metadata": {},
   "source": [
    "## Getting the data and cleaning it"
   ]
  },
  {
   "cell_type": "code",
   "execution_count": 2,
   "id": "0425ef5c-370c-4bbb-84b6-58accb78c45e",
   "metadata": {},
   "outputs": [],
   "source": [
    "def data_download_and_clean(ticker_):\n",
    "    global data, buy_and_hold_final_amount\n",
    "    data = yf.download(tickers = ticker_ , period = 'max' , interval = '1d')\n",
    "    buy_and_hold_final_amount = (data.iloc[-1,4] / data.iloc[1,1])*1000   # amount if we dont trade\n",
    "    data.dropna(axis = 0,inplace = True)\n",
    "    data.drop(['Adj Close','Volume'], axis = 1, inplace = True)\n",
    "    data.reset_index(inplace = True)"
   ]
  },
  {
   "cell_type": "code",
   "execution_count": 3,
   "id": "fd4af13a",
   "metadata": {},
   "outputs": [
    {
     "name": "stdout",
     "output_type": "stream",
     "text": [
      "[*********************100%***********************]  1 of 1 completed\n"
     ]
    },
    {
     "data": {
      "text/html": [
       "<div>\n",
       "<style scoped>\n",
       "    .dataframe tbody tr th:only-of-type {\n",
       "        vertical-align: middle;\n",
       "    }\n",
       "\n",
       "    .dataframe tbody tr th {\n",
       "        vertical-align: top;\n",
       "    }\n",
       "\n",
       "    .dataframe thead th {\n",
       "        text-align: right;\n",
       "    }\n",
       "</style>\n",
       "<table border=\"1\" class=\"dataframe\">\n",
       "  <thead>\n",
       "    <tr style=\"text-align: right;\">\n",
       "      <th></th>\n",
       "      <th>Date</th>\n",
       "      <th>Open</th>\n",
       "      <th>High</th>\n",
       "      <th>Low</th>\n",
       "      <th>Close</th>\n",
       "    </tr>\n",
       "  </thead>\n",
       "  <tbody>\n",
       "    <tr>\n",
       "      <th>0</th>\n",
       "      <td>2014-09-17</td>\n",
       "      <td>465.864014</td>\n",
       "      <td>468.174011</td>\n",
       "      <td>452.421997</td>\n",
       "      <td>457.334015</td>\n",
       "    </tr>\n",
       "    <tr>\n",
       "      <th>1</th>\n",
       "      <td>2014-09-18</td>\n",
       "      <td>456.859985</td>\n",
       "      <td>456.859985</td>\n",
       "      <td>413.104004</td>\n",
       "      <td>424.440002</td>\n",
       "    </tr>\n",
       "    <tr>\n",
       "      <th>2</th>\n",
       "      <td>2014-09-19</td>\n",
       "      <td>424.102997</td>\n",
       "      <td>427.834991</td>\n",
       "      <td>384.532013</td>\n",
       "      <td>394.795990</td>\n",
       "    </tr>\n",
       "    <tr>\n",
       "      <th>3</th>\n",
       "      <td>2014-09-20</td>\n",
       "      <td>394.673004</td>\n",
       "      <td>423.295990</td>\n",
       "      <td>389.882996</td>\n",
       "      <td>408.903992</td>\n",
       "    </tr>\n",
       "    <tr>\n",
       "      <th>4</th>\n",
       "      <td>2014-09-21</td>\n",
       "      <td>408.084991</td>\n",
       "      <td>412.425995</td>\n",
       "      <td>393.181000</td>\n",
       "      <td>398.821014</td>\n",
       "    </tr>\n",
       "  </tbody>\n",
       "</table>\n",
       "</div>"
      ],
      "text/plain": [
       "        Date        Open        High         Low       Close\n",
       "0 2014-09-17  465.864014  468.174011  452.421997  457.334015\n",
       "1 2014-09-18  456.859985  456.859985  413.104004  424.440002\n",
       "2 2014-09-19  424.102997  427.834991  384.532013  394.795990\n",
       "3 2014-09-20  394.673004  423.295990  389.882996  408.903992\n",
       "4 2014-09-21  408.084991  412.425995  393.181000  398.821014"
      ]
     },
     "execution_count": 3,
     "metadata": {},
     "output_type": "execute_result"
    }
   ],
   "source": [
    "data_download_and_clean('BTC-USD')\n",
    "data.head()"
   ]
  },
  {
   "cell_type": "markdown",
   "id": "b70b2f97",
   "metadata": {},
   "source": [
    "## Trading strategy based on moving average"
   ]
  },
  {
   "cell_type": "code",
   "execution_count": 17,
   "id": "7e642c3d",
   "metadata": {
    "scrolled": true
   },
   "outputs": [],
   "source": [
    "def trade(initial_money, i, j):\n",
    "    data['MA_1'] = data.iloc[:,4].rolling(window=i).mean()\n",
    "    data['MA_2'] = data.iloc[:,4].rolling(window=j).mean()\n",
    "    money = initial_money\n",
    "    equity_amount = 0\n",
    "    trade_count = 0          # number of trades done\n",
    "    trading_fees = 0.001    # binance trading fees\n",
    "    traded = 0               # initially no trade has taken place .. this is a binary variable\n",
    "    for i in range(1,len(data)):\n",
    "        # if previous day's ma(1)>ma(2) and we have not alrady bought equity then buy equity\n",
    "        if((data.iloc[i-1,5] > data.iloc[i-1,6]) and traded == 0):      \n",
    "            equity_amount = (money)/data.iloc[i,1]*(1-trading_fees)     \n",
    "            money = 0                                                  # set current amount to 0\n",
    "            trade_count = trade_count+1                                # increase trade count\n",
    "            traded = 1                                                 # change traded flag to 1\n",
    "        # if previous day's ma(2) < ma(5) and we have bought the equity then sell equity\n",
    "        elif((data.iloc[i-1,5] < data.iloc[i-1,6]) and traded == 1):       \n",
    "            money = (equity_amount)*data.iloc[i,1]*(1-trading_fees)    \n",
    "            equity_amount = 0                                          # set equity amount to 0\n",
    "            trade_count = trade_count+1                                # increase trade count\n",
    "            traded = 0                                                 # change traded flag to 0\n",
    "        else:\n",
    "            pass                                                       # if neither conditions happen then we don't do anything\n",
    "        \n",
    "    if(money == 0):\n",
    "        final_money = equity_amount*data.iloc[i,4]  # checking our final amount\n",
    "    else:\n",
    "        final_money = money\n",
    "    print('Profit with trading(percentage) =', 100*(final_money / initial_money - 1)) \n",
    "    print('Profit with holding(percentage) =', 100*(buy_and_hold_final_amount / initial_money - 1))\n",
    "    print('Trading Strategy vs Holding profit difference = $',final_money - buy_and_hold_final_amount)\n",
    "    print('Number of trades executed =', trade_count)\n",
    "    #return final_money/initial_money"
   ]
  },
  {
   "cell_type": "code",
   "execution_count": 5,
   "id": "4f5c266b",
   "metadata": {},
   "outputs": [],
   "source": [
    "from IPython.display import clear_output"
   ]
  },
  {
   "cell_type": "code",
   "execution_count": 6,
   "id": "2ef60d88",
   "metadata": {},
   "outputs": [
    {
     "name": "stdout",
     "output_type": "stream",
     "text": [
      "currently running:  98 99\n"
     ]
    }
   ],
   "source": [
    "max_0 = 0\n",
    "max_i = 0\n",
    "max_j = 0\n",
    "data_download_and_clean('BTC-USD')\n",
    "for i in range(1,100):\n",
    "    for j in range(i+1,100):\n",
    "        amount = trade(1000, i, j)\n",
    "        if(amount>max_0):\n",
    "            max_0 = amount\n",
    "            max_i = i\n",
    "            max_j = j\n",
    "        clear_output(wait = True)\n",
    "        print('currently running: ' , i , j)"
   ]
  },
  {
   "cell_type": "code",
   "execution_count": 7,
   "id": "038d9c1f",
   "metadata": {},
   "outputs": [
    {
     "name": "stdout",
     "output_type": "stream",
     "text": [
      "423.3262697502014 1 44\n"
     ]
    }
   ],
   "source": [
    "print(max_0, max_i, max_j)"
   ]
  },
  {
   "cell_type": "markdown",
   "id": "16df34b1",
   "metadata": {},
   "source": [
    "Removing the commented code in trade and running it once again"
   ]
  },
  {
   "cell_type": "code",
   "execution_count": 9,
   "id": "d29298df",
   "metadata": {},
   "outputs": [
    {
     "name": "stdout",
     "output_type": "stream",
     "text": [
      "[*********************100%***********************]  1 of 1 completed\n",
      "Profit with trading(percentage) = 42232.62697502014\n",
      "Profit with holding(percentage) = 12341.512671548659\n",
      "Trading Strategy vs Holding profit difference = $ 298911.1430347148\n",
      "Number of trades executed = 128\n"
     ]
    }
   ],
   "source": [
    "data_download_and_clean('BTC-USD')\n",
    "trade(1000, max_i, max_j)"
   ]
  },
  {
   "cell_type": "markdown",
   "id": "b20df1ad",
   "metadata": {},
   "source": [
    "The above profit is for the time period 'max', i.e. starting from 17 Sept 2014 to 3 Dec 2021. with 1d timeframe"
   ]
  },
  {
   "cell_type": "code",
   "execution_count": 10,
   "id": "bc393233",
   "metadata": {},
   "outputs": [
    {
     "data": {
      "text/html": [
       "<div>\n",
       "<style scoped>\n",
       "    .dataframe tbody tr th:only-of-type {\n",
       "        vertical-align: middle;\n",
       "    }\n",
       "\n",
       "    .dataframe tbody tr th {\n",
       "        vertical-align: top;\n",
       "    }\n",
       "\n",
       "    .dataframe thead th {\n",
       "        text-align: right;\n",
       "    }\n",
       "</style>\n",
       "<table border=\"1\" class=\"dataframe\">\n",
       "  <thead>\n",
       "    <tr style=\"text-align: right;\">\n",
       "      <th></th>\n",
       "      <th>Date</th>\n",
       "      <th>Open</th>\n",
       "      <th>High</th>\n",
       "      <th>Low</th>\n",
       "      <th>Close</th>\n",
       "      <th>MA_1</th>\n",
       "      <th>MA_2</th>\n",
       "    </tr>\n",
       "  </thead>\n",
       "  <tbody>\n",
       "    <tr>\n",
       "      <th>0</th>\n",
       "      <td>2014-09-17</td>\n",
       "      <td>465.864014</td>\n",
       "      <td>468.174011</td>\n",
       "      <td>452.421997</td>\n",
       "      <td>457.334015</td>\n",
       "      <td>457.334015</td>\n",
       "      <td>NaN</td>\n",
       "    </tr>\n",
       "    <tr>\n",
       "      <th>1</th>\n",
       "      <td>2014-09-18</td>\n",
       "      <td>456.859985</td>\n",
       "      <td>456.859985</td>\n",
       "      <td>413.104004</td>\n",
       "      <td>424.440002</td>\n",
       "      <td>424.440002</td>\n",
       "      <td>NaN</td>\n",
       "    </tr>\n",
       "    <tr>\n",
       "      <th>2</th>\n",
       "      <td>2014-09-19</td>\n",
       "      <td>424.102997</td>\n",
       "      <td>427.834991</td>\n",
       "      <td>384.532013</td>\n",
       "      <td>394.795990</td>\n",
       "      <td>394.795990</td>\n",
       "      <td>NaN</td>\n",
       "    </tr>\n",
       "    <tr>\n",
       "      <th>3</th>\n",
       "      <td>2014-09-20</td>\n",
       "      <td>394.673004</td>\n",
       "      <td>423.295990</td>\n",
       "      <td>389.882996</td>\n",
       "      <td>408.903992</td>\n",
       "      <td>408.903992</td>\n",
       "      <td>NaN</td>\n",
       "    </tr>\n",
       "    <tr>\n",
       "      <th>4</th>\n",
       "      <td>2014-09-21</td>\n",
       "      <td>408.084991</td>\n",
       "      <td>412.425995</td>\n",
       "      <td>393.181000</td>\n",
       "      <td>398.821014</td>\n",
       "      <td>398.821014</td>\n",
       "      <td>NaN</td>\n",
       "    </tr>\n",
       "    <tr>\n",
       "      <th>...</th>\n",
       "      <td>...</td>\n",
       "      <td>...</td>\n",
       "      <td>...</td>\n",
       "      <td>...</td>\n",
       "      <td>...</td>\n",
       "      <td>...</td>\n",
       "      <td>...</td>\n",
       "    </tr>\n",
       "    <tr>\n",
       "      <th>2625</th>\n",
       "      <td>2021-11-28</td>\n",
       "      <td>54813.023438</td>\n",
       "      <td>57393.843750</td>\n",
       "      <td>53576.734375</td>\n",
       "      <td>57248.457031</td>\n",
       "      <td>57248.457031</td>\n",
       "      <td>61175.685458</td>\n",
       "    </tr>\n",
       "    <tr>\n",
       "      <th>2626</th>\n",
       "      <td>2021-11-29</td>\n",
       "      <td>57291.906250</td>\n",
       "      <td>58872.878906</td>\n",
       "      <td>56792.527344</td>\n",
       "      <td>57806.566406</td>\n",
       "      <td>57806.566406</td>\n",
       "      <td>61105.557884</td>\n",
       "    </tr>\n",
       "    <tr>\n",
       "      <th>2627</th>\n",
       "      <td>2021-11-30</td>\n",
       "      <td>57830.113281</td>\n",
       "      <td>59113.402344</td>\n",
       "      <td>56057.281250</td>\n",
       "      <td>57005.425781</td>\n",
       "      <td>57005.425781</td>\n",
       "      <td>61002.189897</td>\n",
       "    </tr>\n",
       "    <tr>\n",
       "      <th>2628</th>\n",
       "      <td>2021-12-01</td>\n",
       "      <td>56907.964844</td>\n",
       "      <td>59041.683594</td>\n",
       "      <td>56553.082031</td>\n",
       "      <td>57229.828125</td>\n",
       "      <td>57229.828125</td>\n",
       "      <td>60893.184215</td>\n",
       "    </tr>\n",
       "    <tr>\n",
       "      <th>2629</th>\n",
       "      <td>2021-12-02</td>\n",
       "      <td>57025.238281</td>\n",
       "      <td>57349.234375</td>\n",
       "      <td>56029.984375</td>\n",
       "      <td>56840.292969</td>\n",
       "      <td>56840.292969</td>\n",
       "      <td>60724.509233</td>\n",
       "    </tr>\n",
       "  </tbody>\n",
       "</table>\n",
       "<p>2630 rows × 7 columns</p>\n",
       "</div>"
      ],
      "text/plain": [
       "           Date          Open          High           Low         Close  \\\n",
       "0    2014-09-17    465.864014    468.174011    452.421997    457.334015   \n",
       "1    2014-09-18    456.859985    456.859985    413.104004    424.440002   \n",
       "2    2014-09-19    424.102997    427.834991    384.532013    394.795990   \n",
       "3    2014-09-20    394.673004    423.295990    389.882996    408.903992   \n",
       "4    2014-09-21    408.084991    412.425995    393.181000    398.821014   \n",
       "...         ...           ...           ...           ...           ...   \n",
       "2625 2021-11-28  54813.023438  57393.843750  53576.734375  57248.457031   \n",
       "2626 2021-11-29  57291.906250  58872.878906  56792.527344  57806.566406   \n",
       "2627 2021-11-30  57830.113281  59113.402344  56057.281250  57005.425781   \n",
       "2628 2021-12-01  56907.964844  59041.683594  56553.082031  57229.828125   \n",
       "2629 2021-12-02  57025.238281  57349.234375  56029.984375  56840.292969   \n",
       "\n",
       "              MA_1          MA_2  \n",
       "0       457.334015           NaN  \n",
       "1       424.440002           NaN  \n",
       "2       394.795990           NaN  \n",
       "3       408.903992           NaN  \n",
       "4       398.821014           NaN  \n",
       "...            ...           ...  \n",
       "2625  57248.457031  61175.685458  \n",
       "2626  57806.566406  61105.557884  \n",
       "2627  57005.425781  61002.189897  \n",
       "2628  57229.828125  60893.184215  \n",
       "2629  56840.292969  60724.509233  \n",
       "\n",
       "[2630 rows x 7 columns]"
      ]
     },
     "execution_count": 10,
     "metadata": {},
     "output_type": "execute_result"
    }
   ],
   "source": [
    "data"
   ]
  },
  {
   "cell_type": "markdown",
   "id": "2c78054a",
   "metadata": {},
   "source": [
    "___"
   ]
  },
  {
   "cell_type": "markdown",
   "id": "df6e0535",
   "metadata": {},
   "source": [
    "Now, I will compute the profit for 1 yr on 1hr timeframe"
   ]
  },
  {
   "cell_type": "code",
   "execution_count": 11,
   "id": "90d36f8f",
   "metadata": {},
   "outputs": [],
   "source": [
    "def data_download_and_clean2(ticker_):\n",
    "    global data, buy_and_hold_final_amount\n",
    "    data = yf.download(tickers = ticker_ , period = '1y' , interval = '1h')\n",
    "    buy_and_hold_final_amount = (data.iloc[-1,4] / data.iloc[1,1])*1000   # amount if we dont trade\n",
    "    data.dropna(axis = 0,inplace = True)\n",
    "    data.drop(['Adj Close','Volume'], axis = 1, inplace = True)\n",
    "    data.reset_index(inplace = True)"
   ]
  },
  {
   "cell_type": "code",
   "execution_count": 15,
   "id": "59324575",
   "metadata": {
    "scrolled": true
   },
   "outputs": [
    {
     "name": "stdout",
     "output_type": "stream",
     "text": [
      "Training Complete\n"
     ]
    }
   ],
   "source": [
    "max_0 = 0\n",
    "max_i = 0\n",
    "max_j = 0\n",
    "data_download_and_clean2('BTC-USD')\n",
    "for i in range(1,100):\n",
    "    for j in range(i+1,100):\n",
    "        amount = trade(1000, i, j)\n",
    "        if(amount>max_0):\n",
    "            max_0 = amount\n",
    "            max_i = i\n",
    "            max_j = j\n",
    "        clear_output(wait = True)\n",
    "        print('currently running: ' , i , j)\n",
    "clear_output(wait = True)\n",
    "print('Training Complete')"
   ]
  },
  {
   "cell_type": "code",
   "execution_count": 16,
   "id": "ac539eb5",
   "metadata": {},
   "outputs": [
    {
     "name": "stdout",
     "output_type": "stream",
     "text": [
      "3.3017836162769942 3 83\n"
     ]
    }
   ],
   "source": [
    "print(max_0, max_i, max_j)"
   ]
  },
  {
   "cell_type": "code",
   "execution_count": 18,
   "id": "6fe34a63",
   "metadata": {},
   "outputs": [
    {
     "name": "stdout",
     "output_type": "stream",
     "text": [
      "[*********************100%***********************]  1 of 1 completed\n",
      "Profit with trading(percentage) = 19013.20186332954\n",
      "Profit with holding(percentage) = 12360.64804733184\n",
      "Trading Strategy vs Holding profit difference = $ 66525.538159977\n",
      "Number of trades executed = 55\n"
     ]
    }
   ],
   "source": [
    "data_download_and_clean('BTC-USD')\n",
    "trade(1000, max_i, max_j)"
   ]
  }
 ],
 "metadata": {
  "kernelspec": {
   "display_name": "Python 3",
   "language": "python",
   "name": "python3"
  },
  "language_info": {
   "codemirror_mode": {
    "name": "ipython",
    "version": 3
   },
   "file_extension": ".py",
   "mimetype": "text/x-python",
   "name": "python",
   "nbconvert_exporter": "python",
   "pygments_lexer": "ipython3",
   "version": "3.8.8"
  }
 },
 "nbformat": 4,
 "nbformat_minor": 5
}
