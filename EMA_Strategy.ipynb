{
 "cells": [
  {
   "cell_type": "markdown",
   "id": "532f8c9e",
   "metadata": {},
   "source": [
    "# Trading Strategy based on Exponential Moving Average"
   ]
  },
  {
   "cell_type": "markdown",
   "id": "a2dd7d55-2003-4475-8feb-d1859407e611",
   "metadata": {},
   "source": [
    "## Importing necessary libraries"
   ]
  },
  {
   "cell_type": "code",
   "execution_count": 1,
   "id": "ec93da56",
   "metadata": {},
   "outputs": [],
   "source": [
    "import yfinance as yf\n",
    "import pandas as pd\n",
    "import matplotlib.pyplot as plt\n",
    "from plotly import graph_objects as go\n",
    "import numpy as np"
   ]
  },
  {
   "cell_type": "markdown",
   "id": "cba1c994",
   "metadata": {},
   "source": [
    "## Getting the data and cleaning it"
   ]
  },
  {
   "cell_type": "code",
   "execution_count": 20,
   "id": "059b2a39",
   "metadata": {},
   "outputs": [],
   "source": [
    "def data_download_and_clean(ticker_):\n",
    "    global data, buy_and_hold_final_amount\n",
    "    data = yf.download(tickers = ticker_ ,period = 'max', interval = '1d')\n",
    "    buy_and_hold_final_amount = (data.iloc[-1,4] / data.iloc[1,1])*1000   # amount if we dont trade\n",
    "    data.dropna(axis = 0,inplace = True)\n",
    "    data.drop(['Adj Close','Volume'], axis = 1, inplace = True)\n",
    "    data.reset_index(inplace = True)"
   ]
  },
  {
   "cell_type": "markdown",
   "id": "37a9d259",
   "metadata": {},
   "source": [
    "## Executing the trade"
   ]
  },
  {
   "cell_type": "code",
   "execution_count": 30,
   "id": "8b095e7c",
   "metadata": {},
   "outputs": [],
   "source": [
    "def trade(initial_money, i, j):\n",
    "    data['EMA(1)'] = data.iloc[:,4].ewm(span=i, adjust=False).mean()\n",
    "    data['EMA(2)'] = data.iloc[:,4].ewm(span=j, adjust=False).mean()\n",
    "    money = initial_money\n",
    "    equity_amount = 0\n",
    "    trade_count = 0          # number of trades done\n",
    "    trading_fees = 0.001    # binance trading fees\n",
    "    traded = 0               # initially no trade has taken place .. this is a binary variable\n",
    "    for i in range(1,len(data)):\n",
    "        # if previous day's ma(1)>ma(2) and we have not alrady bought equity then buy equity\n",
    "        if((data.iloc[i-1,5] > data.iloc[i-1,6]) and traded == 0):      \n",
    "            equity_amount = (money)/data.iloc[i,1]*(1-trading_fees)     \n",
    "            money = 0                                                  # set current amount to 0\n",
    "            trade_count = trade_count+1                                # increase trade count\n",
    "            traded = 1                                                 # change traded flag to 1\n",
    "        # if previous day's ma(2) < ma(5) and we have bought the equity then sell equity\n",
    "        elif((data.iloc[i-1,5] < data.iloc[i-1,6]) and traded == 1):       \n",
    "            money = (equity_amount)*data.iloc[i,1]*(1-trading_fees)    \n",
    "            equity_amount = 0                                          # set equity amount to 0\n",
    "            trade_count = trade_count+1                                # increase trade count\n",
    "            traded = 0                                                 # change traded flag to 0\n",
    "        else:\n",
    "            pass                                                       # if neither conditions happen then we don't do anything\n",
    "        \n",
    "    if(money == 0):\n",
    "        final_money = equity_amount*data.iloc[i,4]  # checking our final amount\n",
    "    else:\n",
    "        final_money = money\n",
    "    print('Profit with trading(percentage) =', 100*(final_money / initial_money - 1)) \n",
    "    print('Profit with holding(percentage) =', 100*(buy_and_hold_final_amount / initial_money - 1))\n",
    "    print('Trading Strategy vs Holding profit difference = $',final_money - buy_and_hold_final_amount)\n",
    "    print('Number of trades executed =', trade_count)\n",
    "    #return final_money/initial_money"
   ]
  },
  {
   "cell_type": "markdown",
   "id": "198c4f45",
   "metadata": {},
   "source": [
    "## Calculating the profit"
   ]
  },
  {
   "cell_type": "code",
   "execution_count": 4,
   "id": "47ae88ad",
   "metadata": {},
   "outputs": [],
   "source": [
    "from IPython.display import clear_output"
   ]
  },
  {
   "cell_type": "code",
   "execution_count": 15,
   "id": "66f87b3e",
   "metadata": {},
   "outputs": [
    {
     "name": "stdout",
     "output_type": "stream",
     "text": [
      "currently running:  98 99\n"
     ]
    }
   ],
   "source": [
    "max_0 = 0\n",
    "max_i = 0\n",
    "max_j = 0\n",
    "data_download_and_clean('BTC-USD')\n",
    "for i in range(1,100):\n",
    "    for j in range(i+1,100):\n",
    "        amount = trade(1000, i, j)\n",
    "        if(amount>max_0):\n",
    "            max_0 = amount\n",
    "            max_i = i\n",
    "            max_j = j\n",
    "        clear_output(wait = True)\n",
    "        print('currently running: ' , i , j)"
   ]
  },
  {
   "cell_type": "code",
   "execution_count": 16,
   "id": "495ea45d",
   "metadata": {},
   "outputs": [
    {
     "name": "stdout",
     "output_type": "stream",
     "text": [
      "343.1890875030044 36 38\n"
     ]
    }
   ],
   "source": [
    "print(max_0, max_i, max_j)"
   ]
  },
  {
   "cell_type": "markdown",
   "id": "a1299b4c",
   "metadata": {},
   "source": [
    "Removing the commented code in trade and running it once again"
   ]
  },
  {
   "cell_type": "code",
   "execution_count": 22,
   "id": "94bd8ef1",
   "metadata": {},
   "outputs": [
    {
     "name": "stdout",
     "output_type": "stream",
     "text": [
      "[*********************100%***********************]  1 of 1 completed\n",
      "Profit with trading(percentage) = 34467.97143068614\n",
      "Profit with holding(percentage) = 12356.349855461327\n",
      "Trading Strategy vs Holding profit difference = $ 221116.21575224813\n",
      "Number of trades executed = 25\n"
     ]
    }
   ],
   "source": [
    "data_download_and_clean('BTC-USD')\n",
    "trade(1000, max_i, max_j)"
   ]
  },
  {
   "cell_type": "markdown",
   "id": "c7278c36",
   "metadata": {},
   "source": [
    "The above profit is for the time period 'max', i.e. starting from 17 Sept 2014 to 3 Dec 2021. with 1d timeframe"
   ]
  },
  {
   "cell_type": "code",
   "execution_count": 23,
   "id": "7fbc2d48",
   "metadata": {},
   "outputs": [
    {
     "data": {
      "text/html": [
       "<div>\n",
       "<style scoped>\n",
       "    .dataframe tbody tr th:only-of-type {\n",
       "        vertical-align: middle;\n",
       "    }\n",
       "\n",
       "    .dataframe tbody tr th {\n",
       "        vertical-align: top;\n",
       "    }\n",
       "\n",
       "    .dataframe thead th {\n",
       "        text-align: right;\n",
       "    }\n",
       "</style>\n",
       "<table border=\"1\" class=\"dataframe\">\n",
       "  <thead>\n",
       "    <tr style=\"text-align: right;\">\n",
       "      <th></th>\n",
       "      <th>Date</th>\n",
       "      <th>Open</th>\n",
       "      <th>High</th>\n",
       "      <th>Low</th>\n",
       "      <th>Close</th>\n",
       "      <th>EMA(1)</th>\n",
       "      <th>EMA(2)</th>\n",
       "    </tr>\n",
       "  </thead>\n",
       "  <tbody>\n",
       "    <tr>\n",
       "      <th>0</th>\n",
       "      <td>2014-09-17</td>\n",
       "      <td>465.864014</td>\n",
       "      <td>468.174011</td>\n",
       "      <td>452.421997</td>\n",
       "      <td>457.334015</td>\n",
       "      <td>457.334015</td>\n",
       "      <td>457.334015</td>\n",
       "    </tr>\n",
       "    <tr>\n",
       "      <th>1</th>\n",
       "      <td>2014-09-18</td>\n",
       "      <td>456.859985</td>\n",
       "      <td>456.859985</td>\n",
       "      <td>413.104004</td>\n",
       "      <td>424.440002</td>\n",
       "      <td>455.555960</td>\n",
       "      <td>455.647142</td>\n",
       "    </tr>\n",
       "    <tr>\n",
       "      <th>2</th>\n",
       "      <td>2014-09-19</td>\n",
       "      <td>424.102997</td>\n",
       "      <td>427.834991</td>\n",
       "      <td>384.532013</td>\n",
       "      <td>394.795990</td>\n",
       "      <td>452.271637</td>\n",
       "      <td>452.526571</td>\n",
       "    </tr>\n",
       "    <tr>\n",
       "      <th>3</th>\n",
       "      <td>2014-09-20</td>\n",
       "      <td>394.673004</td>\n",
       "      <td>423.295990</td>\n",
       "      <td>389.882996</td>\n",
       "      <td>408.903992</td>\n",
       "      <td>449.927440</td>\n",
       "      <td>450.289515</td>\n",
       "    </tr>\n",
       "    <tr>\n",
       "      <th>4</th>\n",
       "      <td>2014-09-21</td>\n",
       "      <td>408.084991</td>\n",
       "      <td>412.425995</td>\n",
       "      <td>393.181000</td>\n",
       "      <td>398.821014</td>\n",
       "      <td>447.164931</td>\n",
       "      <td>447.650105</td>\n",
       "    </tr>\n",
       "    <tr>\n",
       "      <th>...</th>\n",
       "      <td>...</td>\n",
       "      <td>...</td>\n",
       "      <td>...</td>\n",
       "      <td>...</td>\n",
       "      <td>...</td>\n",
       "      <td>...</td>\n",
       "      <td>...</td>\n",
       "    </tr>\n",
       "    <tr>\n",
       "      <th>2625</th>\n",
       "      <td>2021-11-28</td>\n",
       "      <td>54813.023438</td>\n",
       "      <td>57393.843750</td>\n",
       "      <td>53576.734375</td>\n",
       "      <td>57248.457031</td>\n",
       "      <td>59023.722923</td>\n",
       "      <td>58959.104369</td>\n",
       "    </tr>\n",
       "    <tr>\n",
       "      <th>2626</th>\n",
       "      <td>2021-11-29</td>\n",
       "      <td>57291.906250</td>\n",
       "      <td>58872.878906</td>\n",
       "      <td>56792.527344</td>\n",
       "      <td>57806.566406</td>\n",
       "      <td>58957.930679</td>\n",
       "      <td>58899.999858</td>\n",
       "    </tr>\n",
       "    <tr>\n",
       "      <th>2627</th>\n",
       "      <td>2021-11-30</td>\n",
       "      <td>57830.113281</td>\n",
       "      <td>59113.402344</td>\n",
       "      <td>56057.281250</td>\n",
       "      <td>57005.425781</td>\n",
       "      <td>58852.389874</td>\n",
       "      <td>58802.842213</td>\n",
       "    </tr>\n",
       "    <tr>\n",
       "      <th>2628</th>\n",
       "      <td>2021-12-01</td>\n",
       "      <td>56907.964844</td>\n",
       "      <td>59041.683594</td>\n",
       "      <td>56553.082031</td>\n",
       "      <td>57229.828125</td>\n",
       "      <td>58764.683833</td>\n",
       "      <td>58722.174824</td>\n",
       "    </tr>\n",
       "    <tr>\n",
       "      <th>2629</th>\n",
       "      <td>2021-12-02</td>\n",
       "      <td>57025.238281</td>\n",
       "      <td>57349.234375</td>\n",
       "      <td>56029.984375</td>\n",
       "      <td>56908.078125</td>\n",
       "      <td>58664.326768</td>\n",
       "      <td>58629.144224</td>\n",
       "    </tr>\n",
       "  </tbody>\n",
       "</table>\n",
       "<p>2630 rows × 7 columns</p>\n",
       "</div>"
      ],
      "text/plain": [
       "           Date          Open          High           Low         Close  \\\n",
       "0    2014-09-17    465.864014    468.174011    452.421997    457.334015   \n",
       "1    2014-09-18    456.859985    456.859985    413.104004    424.440002   \n",
       "2    2014-09-19    424.102997    427.834991    384.532013    394.795990   \n",
       "3    2014-09-20    394.673004    423.295990    389.882996    408.903992   \n",
       "4    2014-09-21    408.084991    412.425995    393.181000    398.821014   \n",
       "...         ...           ...           ...           ...           ...   \n",
       "2625 2021-11-28  54813.023438  57393.843750  53576.734375  57248.457031   \n",
       "2626 2021-11-29  57291.906250  58872.878906  56792.527344  57806.566406   \n",
       "2627 2021-11-30  57830.113281  59113.402344  56057.281250  57005.425781   \n",
       "2628 2021-12-01  56907.964844  59041.683594  56553.082031  57229.828125   \n",
       "2629 2021-12-02  57025.238281  57349.234375  56029.984375  56908.078125   \n",
       "\n",
       "            EMA(1)        EMA(2)  \n",
       "0       457.334015    457.334015  \n",
       "1       455.555960    455.647142  \n",
       "2       452.271637    452.526571  \n",
       "3       449.927440    450.289515  \n",
       "4       447.164931    447.650105  \n",
       "...            ...           ...  \n",
       "2625  59023.722923  58959.104369  \n",
       "2626  58957.930679  58899.999858  \n",
       "2627  58852.389874  58802.842213  \n",
       "2628  58764.683833  58722.174824  \n",
       "2629  58664.326768  58629.144224  \n",
       "\n",
       "[2630 rows x 7 columns]"
      ]
     },
     "execution_count": 23,
     "metadata": {},
     "output_type": "execute_result"
    }
   ],
   "source": [
    "data"
   ]
  },
  {
   "cell_type": "markdown",
   "id": "22c07581",
   "metadata": {},
   "source": [
    "___"
   ]
  },
  {
   "cell_type": "markdown",
   "id": "fc5e83fc",
   "metadata": {},
   "source": [
    "Now, I will compute the profit for 1 yr on 1hr timeframe"
   ]
  },
  {
   "cell_type": "code",
   "execution_count": 25,
   "id": "9cb38aa9",
   "metadata": {},
   "outputs": [],
   "source": [
    "def data_download_and_clean2(ticker_):\n",
    "    global data, buy_and_hold_final_amount\n",
    "    data = yf.download(tickers = ticker_ , period = '1y' , interval = '1h')\n",
    "    buy_and_hold_final_amount = (data.iloc[-1,4] / data.iloc[1,1])*1000   # amount if we dont trade\n",
    "    data.dropna(axis = 0,inplace = True)\n",
    "    data.drop(['Adj Close','Volume'], axis = 1, inplace = True)\n",
    "    data.reset_index(inplace = True)"
   ]
  },
  {
   "cell_type": "code",
   "execution_count": 28,
   "id": "1ec6241e",
   "metadata": {},
   "outputs": [
    {
     "name": "stdout",
     "output_type": "stream",
     "text": [
      "Training Complete\n"
     ]
    }
   ],
   "source": [
    "max_0 = 0\n",
    "max_i = 0\n",
    "max_j = 0\n",
    "data_download_and_clean2('BTC-USD')\n",
    "for i in range(1,100):\n",
    "    for j in range(i+1,100):\n",
    "        amount = trade(1000, i, j)\n",
    "        if(amount>max_0):\n",
    "            max_0 = amount\n",
    "            max_i = i\n",
    "            max_j = j\n",
    "        clear_output(wait = True)\n",
    "        print('currently running: ' , i , j)\n",
    "clear_output(wait = True)\n",
    "print('Training Complete')"
   ]
  },
  {
   "cell_type": "code",
   "execution_count": 29,
   "id": "26934eca",
   "metadata": {},
   "outputs": [
    {
     "name": "stdout",
     "output_type": "stream",
     "text": [
      "4.0419936217796515 3 79\n"
     ]
    }
   ],
   "source": [
    "print(max_0, max_i, max_j)"
   ]
  },
  {
   "cell_type": "code",
   "execution_count": 31,
   "id": "594badb8",
   "metadata": {},
   "outputs": [
    {
     "name": "stdout",
     "output_type": "stream",
     "text": [
      "[*********************100%***********************]  1 of 1 completed\n",
      "Profit with trading(percentage) = 15299.463716106138\n",
      "Profit with holding(percentage) = 12360.64804733184\n",
      "Trading Strategy vs Holding profit difference = $ 29388.156687742972\n",
      "Number of trades executed = 61\n"
     ]
    }
   ],
   "source": [
    "data_download_and_clean('BTC-USD')\n",
    "trade(1000, max_i, max_j)"
   ]
  }
 ],
 "metadata": {
  "kernelspec": {
   "display_name": "Python 3",
   "language": "python",
   "name": "python3"
  },
  "language_info": {
   "codemirror_mode": {
    "name": "ipython",
    "version": 3
   },
   "file_extension": ".py",
   "mimetype": "text/x-python",
   "name": "python",
   "nbconvert_exporter": "python",
   "pygments_lexer": "ipython3",
   "version": "3.8.8"
  }
 },
 "nbformat": 4,
 "nbformat_minor": 5
}
